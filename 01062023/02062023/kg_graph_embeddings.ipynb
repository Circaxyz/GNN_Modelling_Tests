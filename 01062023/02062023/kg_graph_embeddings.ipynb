{
  "cells": [
    {
      "cell_type": "code",
      "execution_count": null,
      "id": "60ed48b8-1a35-4ae3-a17c-97174b35c04c",
      "metadata": {
        "id": "60ed48b8-1a35-4ae3-a17c-97174b35c04c"
      },
      "outputs": [],
      "source": [
        "!pip install kgtk"
      ]
    },
    {
      "cell_type": "markdown",
      "id": "e7ce4502-5bfe-4343-bb59-06b82a01a8d2",
      "metadata": {
        "id": "e7ce4502-5bfe-4343-bb59-06b82a01a8d2"
      },
      "source": [
        "**Run the following cell, `gensim` is not installed with kgtk**"
      ]
    },
    {
      "cell_type": "code",
      "execution_count": null,
      "id": "f6d3ed7d-00de-4520-b7f5-2719cb5aa18a",
      "metadata": {
        "id": "f6d3ed7d-00de-4520-b7f5-2719cb5aa18a",
        "outputId": "eeb8576d-e55b-43f3-c184-4d90eb7e26ef"
      },
      "outputs": [
        {
          "name": "stdout",
          "output_type": "stream",
          "text": [
            "Collecting gensim\n",
            "  Using cached gensim-4.1.2-cp39-cp39-macosx_10_9_x86_64.whl (24.0 MB)\n",
            "Requirement already satisfied: numpy>=1.17.0 in /Users/amandeep/anaconda3/envs/kgtk-env/lib/python3.9/site-packages (from gensim) (1.22.3)\n",
            "Requirement already satisfied: scipy>=0.18.1 in /Users/amandeep/anaconda3/envs/kgtk-env/lib/python3.9/site-packages (from gensim) (1.8.0)\n",
            "Collecting smart-open>=1.8.1\n",
            "  Using cached smart_open-5.2.1-py3-none-any.whl (58 kB)\n",
            "Installing collected packages: smart-open, gensim\n",
            "Successfully installed gensim-4.1.2 smart-open-5.2.1\n"
          ]
        }
      ],
      "source": [
        "!pip install gensim"
      ]
    },
    {
      "cell_type": "code",
      "execution_count": null,
      "id": "stuffed-forge",
      "metadata": {
        "id": "stuffed-forge",
        "outputId": "c906d4b6-8499-4bc8-ff27-ff3b63410316"
      },
      "outputs": [
        {
          "name": "stderr",
          "output_type": "stream",
          "text": [
            "/Users/amandeep/anaconda3/envs/kgtk-env/lib/python3.9/site-packages/tqdm/auto.py:22: TqdmWarning: IProgress not found. Please update jupyter and ipywidgets. See https://ipywidgets.readthedocs.io/en/stable/user_install.html\n",
            "  from .autonotebook import tqdm as notebook_tqdm\n"
          ]
        }
      ],
      "source": [
        "import os\n",
        "from kgtk.configure_kgtk_notebooks import ConfigureKGTK\n",
        "from kgtk.functions import kgtk, kypher\n",
        "from gensim.models import KeyedVectors\n",
        "import tempfile\n",
        "import h5py, torch\n",
        "from torchbiggraph.model import ComplexDiagonalDynamicOperator, DotComparator, CosComparator\n",
        "import json\n",
        "import pandas as pd"
      ]
    },
    {
      "cell_type": "code",
      "execution_count": null,
      "id": "valued-space",
      "metadata": {
        "id": "valued-space"
      },
      "outputs": [],
      "source": [
        "# Parameters\n",
        "\n",
        "# Folder on local machine where to create the output and temporary folders\n",
        "input_path = None\n",
        "output_path = \"/tmp/projects\"\n",
        "project_name = \"tutorial-graph-embeddings\""
      ]
    },
    {
      "cell_type": "code",
      "execution_count": null,
      "id": "dramatic-marker",
      "metadata": {
        "id": "dramatic-marker"
      },
      "outputs": [],
      "source": [
        "files = [\n",
        "    \"all\",\n",
        "    \"label\",\n",
        "    \"alias\",\n",
        "    \"description\",\n",
        "    \"item\",\n",
        "    \"qualifiers\",\n",
        "    \"p31\",\n",
        "    \"p279star\"\n",
        "]\n",
        "additional_files = {\n",
        "    'p31x': 'derived.P31x.tsv'\n",
        "}\n",
        "input_files_url = \"https://github.com/usc-isi-i2/kgtk-tutorial-files/raw/main/datasets/arnold-profiled\"\n",
        "ck = ConfigureKGTK(files,\n",
        "                  input_files_url=input_files_url)\n",
        "\n",
        "ck.configure_kgtk(input_graph_path=input_path,\n",
        "                  output_path=output_path,\n",
        "                  project_name=project_name,\n",
        "                 additional_files=additional_files)"
      ]
    },
    {
      "cell_type": "code",
      "execution_count": null,
      "id": "operational-boost",
      "metadata": {
        "id": "operational-boost",
        "outputId": "b270e6a2-9b34-4fdb-8df7-8405bad766be"
      },
      "outputs": [
        {
          "name": "stdout",
          "output_type": "stream",
          "text": [
            "KGTK_LABEL_FILE: /Users/amandeep/isi-kgtk-tutorial/tutorial-graph-embeddings_input/labels.en.tsv.gz\n",
            "USE_CASES_DIR: /Users/amandeep/Github/kgtk-notebooks/use-cases\n",
            "STORE: /tmp/projects/tutorial-graph-embeddings/temp.tutorial-graph-embeddings/wikidata.sqlite3.db\n",
            "KGTK_OPTION_DEBUG: false\n",
            "TEMP: /tmp/projects/tutorial-graph-embeddings/temp.tutorial-graph-embeddings\n",
            "OUT: /tmp/projects/tutorial-graph-embeddings\n",
            "GRAPH: /Users/amandeep/isi-kgtk-tutorial/tutorial-graph-embeddings_input\n",
            "kgtk: kgtk\n",
            "kypher: kgtk query --graph-cache /tmp/projects/tutorial-graph-embeddings/temp.tutorial-graph-embeddings/wikidata.sqlite3.db\n",
            "KGTK_GRAPH_CACHE: /tmp/projects/tutorial-graph-embeddings/temp.tutorial-graph-embeddings/wikidata.sqlite3.db\n",
            "EXAMPLES_DIR: /Users/amandeep/Github/kgtk-notebooks/examples\n",
            "all: /Users/amandeep/isi-kgtk-tutorial/tutorial-graph-embeddings_input/all.tsv.gz\n",
            "label: /Users/amandeep/isi-kgtk-tutorial/tutorial-graph-embeddings_input/labels.en.tsv.gz\n",
            "alias: /Users/amandeep/isi-kgtk-tutorial/tutorial-graph-embeddings_input/aliases.en.tsv.gz\n",
            "description: /Users/amandeep/isi-kgtk-tutorial/tutorial-graph-embeddings_input/descriptions.en.tsv.gz\n",
            "item: /Users/amandeep/isi-kgtk-tutorial/tutorial-graph-embeddings_input/claims.wikibase-item.tsv.gz\n",
            "qualifiers: /Users/amandeep/isi-kgtk-tutorial/tutorial-graph-embeddings_input/qualifiers.tsv.gz\n",
            "p31: /Users/amandeep/isi-kgtk-tutorial/tutorial-graph-embeddings_input/derived.P31.tsv.gz\n",
            "p279star: /Users/amandeep/isi-kgtk-tutorial/tutorial-graph-embeddings_input/derived.P279star.tsv.gz\n",
            "p31x: /Users/amandeep/isi-kgtk-tutorial/tutorial-graph-embeddings_input/derived.P31x.tsv\n"
          ]
        }
      ],
      "source": [
        "ck.print_env_variables()"
      ]
    },
    {
      "cell_type": "code",
      "execution_count": null,
      "id": "typical-mustang",
      "metadata": {
        "id": "typical-mustang",
        "outputId": "daa08f75-4944-4656-c536-de3d29a39411"
      },
      "outputs": [
        {
          "name": "stdout",
          "output_type": "stream",
          "text": [
            "kgtk query --graph-cache /tmp/projects/tutorial-graph-embeddings/temp.tutorial-graph-embeddings/wikidata.sqlite3.db -i \"/Users/amandeep/isi-kgtk-tutorial/tutorial-graph-embeddings_input/all.tsv.gz\" --as all  -i \"/Users/amandeep/isi-kgtk-tutorial/tutorial-graph-embeddings_input/labels.en.tsv.gz\" --as label  -i \"/Users/amandeep/isi-kgtk-tutorial/tutorial-graph-embeddings_input/aliases.en.tsv.gz\" --as alias  -i \"/Users/amandeep/isi-kgtk-tutorial/tutorial-graph-embeddings_input/descriptions.en.tsv.gz\" --as description  -i \"/Users/amandeep/isi-kgtk-tutorial/tutorial-graph-embeddings_input/claims.wikibase-item.tsv.gz\" --as item  -i \"/Users/amandeep/isi-kgtk-tutorial/tutorial-graph-embeddings_input/qualifiers.tsv.gz\" --as qualifiers  -i \"/Users/amandeep/isi-kgtk-tutorial/tutorial-graph-embeddings_input/derived.P31.tsv.gz\" --as p31  -i \"/Users/amandeep/isi-kgtk-tutorial/tutorial-graph-embeddings_input/derived.P279star.tsv.gz\" --as p279star  -i \"/Users/amandeep/isi-kgtk-tutorial/tutorial-graph-embeddings_input/derived.P31x.tsv\" --as p31x  --limit 3\n",
            "node1\tlabel\tnode2\tid\tnode2;wikidatatype\n",
            "P10\talias\t'gif'@en\tP10-alias-en-282226-0\t\n",
            "P10\talias\t'animation'@en\tP10-alias-en-2f86d8-0\t\n",
            "P10\talias\t'media'@en\tP10-alias-en-c1427e-0\t\n"
          ]
        }
      ],
      "source": [
        "ck.load_files_into_cache()"
      ]
    },
    {
      "cell_type": "code",
      "execution_count": null,
      "id": "appointed-holly",
      "metadata": {
        "id": "appointed-holly"
      },
      "outputs": [],
      "source": [
        "vector_dimension = 100\n",
        "vector_output_path = f\"{os.environ['OUT']}/arnold.embeddings.augmented.{vector_dimension}.tsv\"\n",
        "vector_output_w2v_path = f\"{os.environ['OUT']}/arnold.embeddings.augmented.{vector_dimension}.w2v.tsv\""
      ]
    },
    {
      "cell_type": "markdown",
      "id": "sensitive-shade",
      "metadata": {
        "id": "sensitive-shade"
      },
      "source": [
        "## Compute ComplEx Graph Embeddings"
      ]
    },
    {
      "cell_type": "markdown",
      "id": "specified-garbage",
      "metadata": {
        "id": "specified-garbage"
      },
      "source": [
        "In this notebook we will compute graph embeddings using `kgtk graph-embeddings` command for the `arnold` subgraph and demonstrate a few applications.\n",
        "\n",
        "First step is to augment the `claims.wikibase-item.tsv.gz` file with `derived.P31x.tsv` file which contains occupations for humans as `instance of (P31)`\n",
        "\n",
        "- `claims.wikibase-item.tsv.gz`: KGTK claims file non literal edges only\n",
        "- `derived.P31x.tsv`: file with additional P31x links, adding occupation as `instance of` (computed)"
      ]
    },
    {
      "cell_type": "code",
      "execution_count": null,
      "id": "confused-motorcycle",
      "metadata": {
        "id": "confused-motorcycle"
      },
      "outputs": [],
      "source": [
        "!kgtk cat -i $item \\\n",
        "-i $GRAPH/derived.P31x.tsv \\\n",
        "-o $GRAPH/claims.wikibase-item.augmented.tsv.gz"
      ]
    },
    {
      "cell_type": "markdown",
      "id": "associate-italic",
      "metadata": {
        "id": "associate-italic"
      },
      "source": [
        "### Run `kgtk graph-embeddings`"
      ]
    },
    {
      "cell_type": "markdown",
      "id": "ranging-guide",
      "metadata": {
        "id": "ranging-guide"
      },
      "source": [
        "The `kgtk graph-embeddings` command takes as input a KGTK edge file and computes graph embeddings of user specified type, producing vectors of user specified dimensions.\n",
        "\n",
        "The following parameters are used in this instance:\n",
        "\n",
        "- `-op ComplEx`: compute ComplEx graph embeddings\n",
        "- `--dimension 30`: desired dimension of the vectors\n",
        "- `-ot kgtk`: output format - kgtk\n",
        "- `--retain_temporary_data True`: retain the byproduct files, which we will use in subsequent steps\n",
        "- `-T <folder path>`: temporary folder where the temporary files will be stored\n",
        "- `-i <file>`: input file\n",
        "- `-o <file>`: output file\n",
        "- `--log <file>`: log file"
      ]
    },
    {
      "cell_type": "markdown",
      "id": "eed07568-def5-440e-8578-9fdf61dbd2cf",
      "metadata": {
        "id": "eed07568-def5-440e-8578-9fdf61dbd2cf"
      },
      "source": [
        "**NOTE: The graph embeddings command will take approximately 10 minutes to run**"
      ]
    },
    {
      "cell_type": "code",
      "execution_count": null,
      "id": "stone-monaco",
      "metadata": {
        "id": "stone-monaco"
      },
      "outputs": [],
      "source": [
        "kgtk(f\"\"\" --debug graph-embeddings\n",
        "            -op ComplEx \n",
        "            --dimension {vector_dimension}\n",
        "            -ot kgtk\n",
        "            --retain_temporary_data True\n",
        "            -T $TEMP\n",
        "            -w 1\n",
        "            -i $GRAPH/claims.wikibase-item.augmented.tsv.gz\n",
        "            -o {vector_output_path}\n",
        "            --log $TEMP/ge.log.txt\n",
        "    \"\"\")"
      ]
    },
    {
      "cell_type": "markdown",
      "id": "accepted-merchandise",
      "metadata": {
        "id": "accepted-merchandise"
      },
      "source": [
        "#### Take a peek at the embeddings file."
      ]
    },
    {
      "cell_type": "code",
      "execution_count": null,
      "id": "extended-preference",
      "metadata": {
        "id": "extended-preference"
      },
      "outputs": [],
      "source": [
        "kgtk(f\"\"\"head -i {vector_output_path}\"\"\")"
      ]
    },
    {
      "cell_type": "markdown",
      "id": "pretty-summary",
      "metadata": {
        "id": "pretty-summary"
      },
      "source": [
        "### The output is in `kgtk` format. Convert it to `word2vec` format for `gensim` similarity computation\n",
        "\n",
        "\n",
        "For reference: \n",
        "- [gensim](https://radimrehurek.com/gensim/)\n",
        "- [word2vec](https://en.wikipedia.org/wiki/Word2vec)"
      ]
    },
    {
      "cell_type": "code",
      "execution_count": null,
      "id": "pursuant-beach",
      "metadata": {
        "id": "pursuant-beach"
      },
      "outputs": [],
      "source": [
        "kgtk(f\"\"\"convert-embeddings-format -i {vector_output_path}\n",
        "                                   --input-property graph_embeddings\n",
        "                                   --output-format word2vec\n",
        "                                   -o {vector_output_w2v_path}\n",
        "\"\"\")"
      ]
    },
    {
      "cell_type": "markdown",
      "id": "optimum-anchor",
      "metadata": {
        "id": "optimum-anchor"
      },
      "source": [
        "### Load the vectors into `gensim`"
      ]
    },
    {
      "cell_type": "markdown",
      "id": "fossil-cinema",
      "metadata": {
        "id": "fossil-cinema"
      },
      "source": [
        "To find similar vectors based on cosine similarity"
      ]
    },
    {
      "cell_type": "code",
      "execution_count": null,
      "id": "suffering-myrtle",
      "metadata": {
        "id": "suffering-myrtle"
      },
      "outputs": [],
      "source": [
        "ge_vectors = KeyedVectors.load_word2vec_format(f\"{vector_output_w2v_path}\", binary=False)"
      ]
    },
    {
      "cell_type": "markdown",
      "id": "hollywood-likelihood",
      "metadata": {
        "id": "hollywood-likelihood"
      },
      "source": [
        "Define a function to compute the `topn` similar vectors, and get the labels and descriptions of the matching Qnodes."
      ]
    },
    {
      "cell_type": "code",
      "execution_count": null,
      "id": "photographic-pearl",
      "metadata": {
        "id": "photographic-pearl"
      },
      "outputs": [],
      "source": [
        "def kgtk_most_similar(\n",
        "    vectors,\n",
        "    positive,\n",
        "    relation_label=\"similarity_score\",\n",
        "    add_label_description=True,\n",
        "    output_path=None,\n",
        "    topn=25,\n",
        "):\n",
        "    \"\"\"\n",
        "    find topn similar Qnodes, add label and decription for the Qnodes\n",
        "    \n",
        "    :param vectors: vector space loaded into gensim KeyedVectors model\n",
        "    :param positive: vector(s) or Qnode(s) to find similar entities for\n",
        "    :param relation_label: name of the property to be used for the output file\n",
        "    :param add_label_description: boolean parameter to add label and description for matched entities\n",
        "    :param output_path: path to store the output file\n",
        "    :param topn: desirednumber of similar entities\n",
        "    \"\"\"\n",
        "    result = []\n",
        "    if add_label_description:\n",
        "        fp = tempfile.NamedTemporaryFile(\n",
        "            mode=\"w\", suffix=\".tsv\", delete=False, encoding=\"utf-8\"\n",
        "        )\n",
        "        fp.write(\"node1\\tlabel\\tnode2\\n\")\n",
        "        for (qnode, similarity) in vectors.most_similar(positive=positive, topn=topn):\n",
        "            fp.write(\"{}\\t{}\\t{}\\n\".format(qnode, relation_label, similarity))\n",
        "        filename = fp.name\n",
        "        fp.close()\n",
        "\n",
        "        os.environ[\"_temp_file\"] = filename\n",
        "\n",
        "        result = !$kypher -i label -i description -i \"$_temp_file\" --as sim \\\n",
        "--match 'sim: (n1)-[]->(similarity), label: (n1)-[]->(lab), description: (n1)-[]->(des)' \\\n",
        "--return 'distinct n1 as node1, similarity as node2, \"similarity\" as label, lab as `node1;label`, des as `node1;description`' \\\n",
        "--order-by 'cast(similarity, float) desc' \n",
        "        \n",
        "        os.remove(filename)\n",
        "        \n",
        "    else:\n",
        "        result.append(\"node1\\tlabel\\tnode2\\n\")\n",
        "        for (qnode, similarity) in vectors.most_similar(positive=positive, topn=topn):\n",
        "            result.append(\"{}\\t{}\\t{}\\n\".format(qnode, relation_label, similarity))\n",
        "\n",
        "    if output_path:\n",
        "        handle = open(output_path, \"w\")\n",
        "        for line in result:\n",
        "            handle.write(line)\n",
        "            handle.write(\"\\n\")\n",
        "        handle.close()\n",
        "    else:\n",
        "        columns = result[0].split(\"\\t\")\n",
        "        data = []\n",
        "        for line in result[1:]:\n",
        "            data.append(line.split(\"\\t\"))\n",
        "        return pd.DataFrame(data, columns=columns)"
      ]
    },
    {
      "cell_type": "markdown",
      "id": "improving-candle",
      "metadata": {
        "id": "improving-candle"
      },
      "source": [
        "### Link Prediction"
      ]
    },
    {
      "cell_type": "markdown",
      "id": "assisted-british",
      "metadata": {
        "id": "assisted-british"
      },
      "source": [
        "The following code reads the vectors for Qnodes as `head` and Properties as `relation`.\n",
        "\n",
        "The files used in the code are produced by `kgtk graph-embeddings` code as a byproduct, in the folder specified by the `-T` option"
      ]
    },
    {
      "cell_type": "code",
      "execution_count": null,
      "id": "spoken-association",
      "metadata": {
        "id": "spoken-association"
      },
      "outputs": [],
      "source": [
        "relation_names_list = json.load(open(f\"{os.environ['TEMP']}/output/dynamic_rel_names.json\"))\n",
        "entity_names_list = json.load(open(f\"{os.environ['TEMP']}/output/entity_names_all_0.json\"))\n",
        "prop_count = len(relation_names_list)\n",
        "\n",
        "# operators\n",
        "operator_lhs = ComplexDiagonalDynamicOperator(vector_dimension, prop_count)\n",
        "operator_rhs = ComplexDiagonalDynamicOperator(vector_dimension, prop_count)\n",
        "comparator = DotComparator()\n",
        "cos_comparator = CosComparator()\n",
        "with h5py.File(f\"{os.environ['TEMP']}/output/model/model.v100.h5\", \"r\") as hf:\n",
        "    operator_state_dict_lhs = {\n",
        "        \"real\": torch.from_numpy(hf[\"model/relations/0/operator/lhs/real\"][...]),\n",
        "        \"imag\": torch.from_numpy(hf[\"model/relations/0/operator/lhs/imag\"][...]),\n",
        "    }\n",
        "    operator_state_dict_rhs = {\n",
        "        \"real\": torch.from_numpy(hf[\"model/relations/0/operator/rhs/real\"][...]),\n",
        "        \"imag\": torch.from_numpy(hf[\"model/relations/0/operator/rhs/imag\"][...]),\n",
        "    }\n",
        "    \n",
        "operator_lhs.load_state_dict(operator_state_dict_lhs)\n",
        "operator_rhs.load_state_dict(operator_state_dict_rhs)\n",
        "\n",
        "# Load the embeddings\n",
        "with h5py.File(f\"{os.environ['TEMP']}/output/model/embeddings_all_0.v100.h5\", \"r\") as hf:\n",
        "    arnold_embedding = torch.from_numpy(hf[\"embeddings\"][...])\n",
        "\n",
        "\n",
        "entity_to_index = {}\n",
        "for i, entity in enumerate(entity_names_list):\n",
        "    entity_to_index[entity] = i\n",
        "    \n",
        "\n",
        "rel_index = {}\n",
        "for i, rel in enumerate(relation_names_list):\n",
        "    rel_index[rel] = i"
      ]
    },
    {
      "cell_type": "markdown",
      "id": "seeing-attitude",
      "metadata": {
        "id": "seeing-attitude"
      },
      "source": [
        "The following function takes as input a `Qnode` and a `Property`, and outputs a vector which should be similar to the value of the relation.\n",
        "\n",
        "For example, Qnode: `Q37079` = Tom Cruise, Property: `P166` = awards received and output a vector similar to awards. We will see this equation in action in the subsequent examples."
      ]
    },
    {
      "cell_type": "code",
      "execution_count": null,
      "id": "retired-attraction",
      "metadata": {
        "id": "retired-attraction"
      },
      "outputs": [],
      "source": [
        "def get_embed(head, relation=None):\n",
        "    ''' This function generate the embeddings for the tail entities:\n",
        "            Head entities: Obtained from the model\n",
        "            Head + relation: Obtained using torch\n",
        "        :param head: subject Qnode\n",
        "        :param relation: optional property\n",
        "    '''\n",
        "    if relation is None:\n",
        "        return arnold_embedding[entity_to_index[head], :].detach().numpy()\n",
        "    return  operator_lhs(\n",
        "                arnold_embedding[entity_to_index[head], :].view(1, vector_dimension),\n",
        "                torch.tensor([rel_index[relation]])\n",
        "            ).detach().numpy()[0]"
      ]
    },
    {
      "cell_type": "markdown",
      "id": "retired-corrections",
      "metadata": {
        "id": "retired-corrections"
      },
      "source": [
        "#### Get the vector for `Q37079` (Tom Cruise) + `P166` (award received), then find most similar entities"
      ]
    },
    {
      "cell_type": "code",
      "execution_count": null,
      "id": "molecular-supplement",
      "metadata": {
        "id": "molecular-supplement"
      },
      "outputs": [],
      "source": [
        "_vector = get_embed('Q37079', 'P166')\n",
        "kgtk_most_similar(ge_vectors, positive=[_vector], topn=10)"
      ]
    },
    {
      "cell_type": "markdown",
      "id": "colonial-bolivia",
      "metadata": {
        "id": "colonial-bolivia"
      },
      "source": [
        "#### Get the vector for `Q170564` (Terminator 2: Judgement Day) + `P161` (cast member), then find most similar entities"
      ]
    },
    {
      "cell_type": "code",
      "execution_count": null,
      "id": "armed-federation",
      "metadata": {
        "id": "armed-federation"
      },
      "outputs": [],
      "source": [
        "_vector = get_embed('Q170564', 'P161')\n",
        "kgtk_most_similar(ge_vectors, positive=[_vector], topn=10)"
      ]
    },
    {
      "cell_type": "markdown",
      "id": "driving-insight",
      "metadata": {
        "id": "driving-insight"
      },
      "source": [
        "#### Get the vector for `Q104123` (Pulp Fiction) + `P161` (cast member), then find most similar entities"
      ]
    },
    {
      "cell_type": "code",
      "execution_count": null,
      "id": "helpful-secret",
      "metadata": {
        "id": "helpful-secret"
      },
      "outputs": [],
      "source": [
        "_vector = get_embed('Q104123', 'P161')\n",
        "kgtk_most_similar(ge_vectors, positive=[_vector], topn=10)"
      ]
    },
    {
      "cell_type": "markdown",
      "id": "indian-joseph",
      "metadata": {
        "id": "indian-joseph"
      },
      "source": [
        "#### Get the vector for `Q2685` (Arnold Schwarzenegger), then find most similar entities"
      ]
    },
    {
      "cell_type": "code",
      "execution_count": null,
      "id": "burning-green",
      "metadata": {
        "id": "burning-green"
      },
      "outputs": [],
      "source": [
        "_vector = get_embed('Q2685')\n",
        "kgtk_most_similar(ge_vectors, positive=[_vector], topn=10)"
      ]
    },
    {
      "cell_type": "markdown",
      "id": "romance-adrian",
      "metadata": {
        "id": "romance-adrian"
      },
      "source": [
        "#### Get the vector for `Q103148` (Lahn River), then find most similar entities"
      ]
    },
    {
      "cell_type": "code",
      "execution_count": null,
      "id": "diverse-museum",
      "metadata": {
        "id": "diverse-museum"
      },
      "outputs": [],
      "source": [
        "_vector = get_embed('Q103148')\n",
        "kgtk_most_similar(ge_vectors, positive=[_vector], topn=10)"
      ]
    },
    {
      "cell_type": "markdown",
      "id": "beautiful-branch",
      "metadata": {
        "id": "beautiful-branch"
      },
      "source": [
        "## Prepare files for Google Projector"
      ]
    },
    {
      "cell_type": "markdown",
      "id": "together-paper",
      "metadata": {
        "id": "together-paper"
      },
      "source": [
        "In this section, we will prepare `vectors` and `metadata` files for google projector.\n",
        "\n",
        "We are focusing on the following types:\n",
        "\n",
        "- `Q11424` (film)\n",
        "- `Q33999` (actor)\n",
        "- `Q4022` (river)\n",
        "- `Q82955` (politician)\n",
        "\n",
        "First step is to create a file with the following information ,\n",
        "\n",
        "1. node1 :- Qnode\n",
        "2. label :- name of the property\n",
        "3. node2 :- embedding vector for node1\n",
        "4. node1_label :- label for node1\n",
        "5. type :- `instance of` for node1\n",
        "6. type_label :- label for type"
      ]
    },
    {
      "cell_type": "code",
      "execution_count": null,
      "id": "simplified-implementation",
      "metadata": {
        "id": "simplified-implementation"
      },
      "outputs": [],
      "source": [
        "%%time\n",
        "kgtk(f\"\"\" query -i $GRAPH/claims.wikibase-item.augmented.tsv.gz \n",
        "         -i p279star \n",
        "         -i label \n",
        "         -i {vector_output_path} \n",
        "         -i $GRAPH/derived.P31x.tsv \n",
        "         --match 'item: (n1)-[]->(), \n",
        "             P31x: (n1)-[]->(c), \n",
        "             p279star: (c)-[]->(class), \n",
        "             label: (n1)-[]->(n1_label), \n",
        "             label: (class)-[]->(class_label), embeddings: (n1)-[l]->(embedding)'\n",
        "        --where 'class in [\"Q11424\", \"Q33999\", \"Q4022\", \"Q82955\"]' \n",
        "        --return 'distinct n1, \n",
        "                  l.label as label,\n",
        "                  embedding as node2,\n",
        "                  kgtk_lqstring_text(n1_label) as `node1_label`, \n",
        "                  group_concat(distinct class) as type, \n",
        "                  group_concat(distinct kgtk_lqstring_text(class_label)) as `type_label`'\n",
        "        -o $TEMP/arnold.embeddings.google.projector.tsv\n",
        "\"\"\")"
      ]
    },
    {
      "cell_type": "markdown",
      "id": "civilian-metro",
      "metadata": {
        "id": "civilian-metro"
      },
      "source": [
        "#### Take a peek at the file"
      ]
    },
    {
      "cell_type": "code",
      "execution_count": null,
      "id": "raising-drink",
      "metadata": {
        "id": "raising-drink"
      },
      "outputs": [],
      "source": [
        "kgtk(\"\"\"head -i $TEMP/arnold.embeddings.google.projector.tsv\"\"\")"
      ]
    },
    {
      "cell_type": "markdown",
      "id": "b69b9414-73fc-4658-a513-b047a86d30ec",
      "metadata": {
        "id": "b69b9414-73fc-4658-a513-b047a86d30ec"
      },
      "source": [
        "#### Convert the `$TEMP/arnold.embeddings.google.projector.tsv` file to Google projector and metadata files"
      ]
    },
    {
      "cell_type": "code",
      "execution_count": null,
      "id": "d73be3e3-85f1-4a54-8d0f-2e32a1deb32e",
      "metadata": {
        "id": "d73be3e3-85f1-4a54-8d0f-2e32a1deb32e"
      },
      "outputs": [],
      "source": [
        "kgtk(f\"\"\"--debug convert-embeddings-format \n",
        "          -i $TEMP/arnold.embeddings.google.projector.tsv\n",
        "          --metadata-columns node1,node1_label,type,type_label\n",
        "          --input-property graph_embeddings\n",
        "          --metadata-file $OUT/arnold.metadata.{vector_dimension}.tsv\n",
        "          --output-format gprojector\n",
        "          -o $OUT/arnold.vectors.{vector_dimension}.tsv\n",
        "\"\"\")"
      ]
    },
    {
      "cell_type": "markdown",
      "id": "moved-mercy",
      "metadata": {
        "id": "moved-mercy"
      },
      "source": [
        "#### Peek at the metadata file"
      ]
    },
    {
      "cell_type": "code",
      "execution_count": null,
      "id": "acoustic-oliver",
      "metadata": {
        "id": "acoustic-oliver"
      },
      "outputs": [],
      "source": [
        "kgtk(f\"\"\"head -i $OUT/arnold.metadata.{vector_dimension}.tsv\"\"\")"
      ]
    },
    {
      "cell_type": "markdown",
      "id": "alpine-estonia",
      "metadata": {
        "id": "alpine-estonia"
      },
      "source": [
        "#### Peek at the vectors file"
      ]
    },
    {
      "cell_type": "code",
      "execution_count": null,
      "id": "patient-mozambique",
      "metadata": {
        "id": "patient-mozambique"
      },
      "outputs": [],
      "source": [
        "kgtk(f\"\"\"head -i $OUT/arnold.vectors.{vector_dimension}.tsv\"\"\")tsv"
      ]
    },
    {
      "cell_type": "markdown",
      "id": "5def0ad8-36da-4a3b-b701-5d8eba0f4b6c",
      "metadata": {
        "id": "5def0ad8-36da-4a3b-b701-5d8eba0f4b6c"
      },
      "source": [
        "### Download the files to local computer"
      ]
    },
    {
      "cell_type": "markdown",
      "id": "5196f98b-e827-4020-b33d-eab81738463c",
      "metadata": {
        "id": "5196f98b-e827-4020-b33d-eab81738463c"
      },
      "source": [
        "**Run the following three cells only if you are running from Google Colab**"
      ]
    },
    {
      "cell_type": "code",
      "execution_count": null,
      "id": "dae71719-4864-483d-bf83-0b04ee5bea98",
      "metadata": {
        "id": "dae71719-4864-483d-bf83-0b04ee5bea98"
      },
      "outputs": [],
      "source": [
        "from google.colab import files"
      ]
    },
    {
      "cell_type": "markdown",
      "id": "1ba448db-3224-41e4-849b-c54a2dc35755",
      "metadata": {
        "id": "1ba448db-3224-41e4-849b-c54a2dc35755"
      },
      "source": [
        "#### Download the vectors file"
      ]
    },
    {
      "cell_type": "code",
      "execution_count": null,
      "id": "de15de28-471f-4579-9322-4c942068af99",
      "metadata": {
        "id": "de15de28-471f-4579-9322-4c942068af99"
      },
      "outputs": [],
      "source": [
        "files.download(f\"{os.environ['OUT']}/arnold.vectors.{vector_dimension}.tsv\")"
      ]
    },
    {
      "cell_type": "markdown",
      "id": "fbb278eb-f25f-4873-ab79-12356a3f451b",
      "metadata": {
        "id": "fbb278eb-f25f-4873-ab79-12356a3f451b"
      },
      "source": [
        "#### Download the metadata file"
      ]
    },
    {
      "cell_type": "code",
      "execution_count": null,
      "id": "06383741-8cb6-4177-a997-e2a59edde146",
      "metadata": {
        "id": "06383741-8cb6-4177-a997-e2a59edde146"
      },
      "outputs": [],
      "source": [
        "files.download(f\"{os.environ['OUT']}/arnold.metadata.{vector_dimension}.tsv\")"
      ]
    },
    {
      "cell_type": "markdown",
      "id": "b768af66-d35b-4ac8-aa12-c021d1139374",
      "metadata": {
        "id": "b768af66-d35b-4ac8-aa12-c021d1139374"
      },
      "source": [
        "**The files are now downloaded to your local 'Downloads' folder.**"
      ]
    },
    {
      "cell_type": "markdown",
      "id": "under-angola",
      "metadata": {
        "id": "under-angola"
      },
      "source": [
        "## Google embedding projector\n"
      ]
    },
    {
      "cell_type": "markdown",
      "id": "4efb5f64-6301-46ae-b6be-a189a660a26d",
      "metadata": {
        "id": "4efb5f64-6301-46ae-b6be-a189a660a26d"
      },
      "source": [
        "In a new tab, to go the URL: https://projector.tensorflow.org"
      ]
    },
    {
      "cell_type": "markdown",
      "id": "f3f69eab-a3ff-47ff-8962-0514f86dc6be",
      "metadata": {
        "id": "f3f69eab-a3ff-47ff-8962-0514f86dc6be"
      },
      "source": [
        "Load the `vector` and `metadata` files using the load button\n",
        "![Google embedding projector](https://raw.githubusercontent.com/usc-isi-i2/kgtk-notebooks/main/tutorial/assets/ge-load.png \"Google embedding projector\")"
      ]
    },
    {
      "cell_type": "markdown",
      "id": "dd597626-17bb-45d2-a879-c43cb09dbd07",
      "metadata": {
        "id": "dd597626-17bb-45d2-a879-c43cb09dbd07"
      },
      "source": [
        "#### UMAP visualization of the embeddings"
      ]
    },
    {
      "cell_type": "markdown",
      "id": "ab2aa105-f3d1-418d-aa71-9c569ef1cb85",
      "metadata": {
        "id": "ab2aa105-f3d1-418d-aa71-9c569ef1cb85"
      },
      "source": [
        "![Google embedding projector](https://raw.githubusercontent.com/usc-isi-i2/kgtk-notebooks/main/tutorial/assets/ge-arnold-umap.png \"Google embedding projector\")"
      ]
    },
    {
      "cell_type": "code",
      "execution_count": null,
      "id": "d4dfa2cc-ba07-4e6c-afe5-72c401b3e6f2",
      "metadata": {
        "id": "d4dfa2cc-ba07-4e6c-afe5-72c401b3e6f2"
      },
      "outputs": [],
      "source": []
    },
    {
      "cell_type": "markdown",
      "id": "rolled-falls",
      "metadata": {
        "id": "rolled-falls"
      },
      "source": [
        "#### PCA visualization of the embeddings, colored by `type_label`"
      ]
    },
    {
      "cell_type": "markdown",
      "id": "respective-buying",
      "metadata": {
        "id": "respective-buying"
      },
      "source": [
        "![PCA Color by Type](https://raw.githubusercontent.com/usc-isi-i2/kgtk-notebooks/main/tutorial/assets/ge-arnold-pca.png \"PCA Color by Type\")"
      ]
    },
    {
      "cell_type": "code",
      "execution_count": null,
      "id": "9c0fc0bb-5dc4-4bdd-baaf-8a617f71348c",
      "metadata": {
        "id": "9c0fc0bb-5dc4-4bdd-baaf-8a617f71348c"
      },
      "outputs": [],
      "source": []
    }
  ],
  "metadata": {
    "kernelspec": {
      "display_name": "kgtk-env",
      "language": "python",
      "name": "kgtk-env"
    },
    "language_info": {
      "codemirror_mode": {
        "name": "ipython",
        "version": 3
      },
      "file_extension": ".py",
      "mimetype": "text/x-python",
      "name": "python",
      "nbconvert_exporter": "python",
      "pygments_lexer": "ipython3",
      "version": "3.9.7"
    },
    "colab": {
      "provenance": []
    }
  },
  "nbformat": 4,
  "nbformat_minor": 5
}